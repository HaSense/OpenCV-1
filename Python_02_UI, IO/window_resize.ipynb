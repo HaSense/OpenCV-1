{
 "cells": [
  {
   "cell_type": "markdown",
   "metadata": {},
   "source": [
    "## 윈도우 크기 변경"
   ]
  },
  {
   "cell_type": "code",
   "execution_count": 1,
   "metadata": {},
   "outputs": [],
   "source": [
    "import numpy as np\n",
    "import cv2"
   ]
  },
  {
   "cell_type": "code",
   "execution_count": 2,
   "metadata": {},
   "outputs": [],
   "source": [
    "image = np.zeros((200, 300), np.uint8)\n",
    "image.fill(255) # 행렬의 모든 원소를 흰색(255)으로 채움"
   ]
  },
  {
   "cell_type": "code",
   "execution_count": 3,
   "metadata": {},
   "outputs": [],
   "source": [
    "title1, title2 = \"AUTOSIZE\", \"NORMAL\"\n",
    "cv2.namedWindow(title1, cv2.WINDOW_AUTOSIZE) # 행렬의 크기만큼 윈도우 생성. 변경 불가.\n",
    "cv2.namedWindow(title2, cv2.WINDOW_NORMAL)   # 크기 변경 가능."
   ]
  },
  {
   "cell_type": "code",
   "execution_count": 4,
   "metadata": {},
   "outputs": [],
   "source": [
    "cv2.imshow(title1, image)\n",
    "cv2.imshow(title2, image)"
   ]
  },
  {
   "cell_type": "code",
   "execution_count": 5,
   "metadata": {},
   "outputs": [],
   "source": [
    "'''\n",
    "cv2.resizeWindow(winname, width, height) -> None\n",
    "윈도우의 크기를 재조정함\n",
    "Arguments:\n",
    "    * width, height: 변경하려는 윈도우의 가로 크기와 세로 크기\n",
    "'''\n",
    "cv2.resizeWindow(title1, 400, 300)\n",
    "cv2.resizeWindow(title2, 400, 300)"
   ]
  },
  {
   "cell_type": "code",
   "execution_count": null,
   "metadata": {},
   "outputs": [],
   "source": [
    "cv2.waitKey(0)\n",
    "cv2.destroyAllWindows()"
   ]
  }
 ],
 "metadata": {
  "kernelspec": {
   "display_name": "Python 3",
   "language": "python",
   "name": "python3"
  },
  "language_info": {
   "codemirror_mode": {
    "name": "ipython",
    "version": 3
   },
   "file_extension": ".py",
   "mimetype": "text/x-python",
   "name": "python",
   "nbconvert_exporter": "python",
   "pygments_lexer": "ipython3",
   "version": "3.7.9"
  }
 },
 "nbformat": 4,
 "nbformat_minor": 4
}
