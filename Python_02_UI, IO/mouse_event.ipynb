{
 "cells": [
  {
   "cell_type": "markdown",
   "metadata": {},
   "source": [
    "## 마우스 이벤트"
   ]
  },
  {
   "cell_type": "code",
   "execution_count": 1,
   "metadata": {},
   "outputs": [],
   "source": [
    "import numpy as np\n",
    "import cv2"
   ]
  },
  {
   "cell_type": "code",
   "execution_count": 2,
   "metadata": {},
   "outputs": [],
   "source": [
    "'''\n",
    "onMouse(event, x, y, flags, param=None)\n",
    "마우스 이벤트에 대한 콜백함수\n",
    "cv2.setMouseCallback() 함수의 두 번째 인수(onMouse)의 구현부로 이름이 같아야 함\n",
    "onMouse() 함수의 인수 구조(인수 타입, 순서 등)를 유지해야 함\n",
    "\n",
    "Arguments:\n",
    "    * event: 발생한 마우스 이벤트 종류\n",
    "        - cv2.EVENT_MOUSEMOVE    (= 0): 마우스 움직임\n",
    "        - cv2.EVENT_LBUTTONDOWN  (= 1): 왼쪽 버튼 누르기\n",
    "        - cv2,EVENT_RBUTTONDOWN  (= 2): 오른쪽 버튼 누르기\n",
    "        - cv2.EVENT_MBUTTONDOWN  (= 3): 중간 스크롤 버튼 누르기\n",
    "        - cv2.EVENT_LBUTTONUP    (= 4): 왼쪽 버튼 떼기\n",
    "        - cv2.EVENT_RBUTTONUP    (= 5): 오른쪽 버튼 떼기\n",
    "        - cv2.EVENT_MBUTTONUP    (= 6): 중간 스크롤 버튼 떼기\n",
    "        - cv2.EVENT_LBUTTONDBLCLK(= 7): 왼쪽 버튼 더블 클릭\n",
    "        - cv2.EVENT_RBUTTONDBLCLK(= 8): 오른쪽 버튼 더블 클릭\n",
    "        - cv2.EVENT_MBUTTONDBLCLK(= 9): 중간 스크롤 버튼 더블 클릭\n",
    "        - cv2.EVENT_MOUSEWHEEL   (=10): 마우스 휠\n",
    "        - cv2.EVENT_MOUSEHWHEEL  (=11): 마우스 가로 방향 휠\n",
    "    * x, y : 이벤트 발생 시 마우스 포인터 x, y 좌표\n",
    "    * flags: 마우스 버튼과 동시에 특수키(shift, alt, ctrl)를 눌렀는지 여부 확인\n",
    "        - cv2.EVENT_FLAG_LBUTTON (= 1): 왼쪽 버튼 클릭\n",
    "        - cv2.EVENT_FLAG_RBUTTON (= 2): 오른쪽 버튼 클릭\n",
    "        - cv2.EVENT_FLAG_MBUTTON (= 3): 중간 스크롤 버튼 클릭\n",
    "        - cv2.EVENT_FLAG_CTRLKEY (= 4): ctrl 키 누르기\n",
    "        - cv2.EVENT_FLAG_SHIFTKEY(= 5): shift 키 누르기\n",
    "        - cv2.EVENT_FLAG_ALTKEY  (= 6): alt 키 누르기\n",
    "    * param: 콜백 함수로 전달되는 추가적인 사용자 정의 인수\n",
    "'''\n",
    "\n",
    "def onMouse(event, x, y, flags, param):\n",
    "    if event == cv2.EVENT_LBUTTONDOWN:\n",
    "        print(\"마우스 왼쪽 버튼 누르기\")\n",
    "    elif event == cv2.EVENT_RBUTTONDOWN:\n",
    "        print(\"마우스 오른쪽 버튼 누르기\")\n",
    "    elif event == cv2.EVENT_RBUTTONUP:\n",
    "        print(\"마우스 오른쪽 버튼 떼기\")\n",
    "    elif event == cv2.EVENT_LBUTTONDBLCLK:\n",
    "        print(\"마우스 왼쪽 버튼 더블클릭\")"
   ]
  },
  {
   "cell_type": "code",
   "execution_count": 3,
   "metadata": {},
   "outputs": [],
   "source": [
    "image = np.full((200, 300), 255, np.uint8) # 200*300 흰색(255) 영상"
   ]
  },
  {
   "cell_type": "code",
   "execution_count": 4,
   "metadata": {},
   "outputs": [],
   "source": [
    "title1, title2 = \"Mouse Event1\", \"Mouse Event2\"\n",
    "cv2.imshow(title1, image)\n",
    "cv2.imshow(title2, image)"
   ]
  },
  {
   "cell_type": "code",
   "execution_count": null,
   "metadata": {},
   "outputs": [],
   "source": [
    "'''\n",
    "cv2.setMouseCallback(windowName, onMouse, param=None) -> None\n",
    "사용자가 정의한 마우스 콜백 함수를 등록함\n",
    "\n",
    "Arguments:\n",
    "    * winname(str)     : 이벤트 발생을 일으킨 윈도우 이름\n",
    "    * onMouse(function): 마우스 이벤트 처리를 위한 콜백함수 이름\n",
    "    * param            : 이벤트 처리 함수에 추가로 전달할 사용자 정의 인수\n",
    "'''\n",
    "cv2.setMouseCallback(title1, onMouse)\n",
    "cv2.waitKey(0)\n",
    "cv2.destroyAllWindows()"
   ]
  }
 ],
 "metadata": {
  "kernelspec": {
   "display_name": "Python 3",
   "language": "python",
   "name": "python3"
  },
  "language_info": {
   "codemirror_mode": {
    "name": "ipython",
    "version": 3
   },
   "file_extension": ".py",
   "mimetype": "text/x-python",
   "name": "python",
   "nbconvert_exporter": "python",
   "pygments_lexer": "ipython3",
   "version": "3.7.9"
  }
 },
 "nbformat": 4,
 "nbformat_minor": 4
}
