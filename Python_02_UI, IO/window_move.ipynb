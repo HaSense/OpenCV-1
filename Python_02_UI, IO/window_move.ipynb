{
 "cells": [
  {
   "cell_type": "markdown",
   "metadata": {},
   "source": [
    "## 윈도우 이동 예제"
   ]
  },
  {
   "cell_type": "code",
   "execution_count": 1,
   "metadata": {},
   "outputs": [],
   "source": [
    "# import package\n",
    "import numpy as np\n",
    "import cv2"
   ]
  },
  {
   "cell_type": "code",
   "execution_count": 2,
   "metadata": {},
   "outputs": [],
   "source": [
    "image = np.zeros((200, 400), np.uint8)  # 200*400의 unsigned integer (8bit) matrix\n",
    "image[:] = 200                          # 밝은 회색(200) 바탕 영상 설정"
   ]
  },
  {
   "cell_type": "code",
   "execution_count": 3,
   "metadata": {},
   "outputs": [],
   "source": [
    "title1, title2 = 'Position1', 'Position2' # Window name\n",
    "'''\n",
    "cv2.namedWindow(winname[, flags]) -> None\n",
    "윈도우 이름을 설정한 후, 해당 이름으로 윈도우를 생성한다.\n",
    "Arguments:\n",
    "    * winname(str): 윈도우 이름\n",
    "    * flags(int)  : 윈도우의 크기 조정\n",
    "      - cv2.WINDOW_NORMAL  (=0) : 윈도우 크기 재조정 가능\n",
    "      - cv2.WINDOW_AUTOSIZE(=1) : 표시될 행렬의 크기에 맞춰 자동 조정\n",
    "'''\n",
    "cv2.namedWindow(title1, cv2.WINDOW_AUTOSIZE)\n",
    "cv2.namedWindow(title2)"
   ]
  },
  {
   "cell_type": "code",
   "execution_count": 4,
   "metadata": {},
   "outputs": [],
   "source": [
    "'''\n",
    "cv2.moveWindow(winname, x, y) -> None\n",
    "winname 이름의 윈도우를 지정된 위치인 (x, y)로 이동함.\n",
    "이동되는 윈도우 기준 위치는 좌측 상단임.\n",
    "Arguments:\n",
    "    * x, y: 모니터 안에 이동하려는 위치의 x, y 좌표\n",
    "'''\n",
    "cv2.moveWindow(title1, 150, 150)\n",
    "cv2.moveWindow(title2, 400, 50)"
   ]
  },
  {
   "cell_type": "code",
   "execution_count": 5,
   "metadata": {},
   "outputs": [],
   "source": [
    "'''\n",
    "cv2.imshow(winname, mat) -> None\n",
    "winname 이름의 윈도우에 mat 행렬을 영상으로 표시함.\n",
    "생성된 윈도우가 없다면 winname 이름으로 윈도우를 생성하고 영상을 표시함.\n",
    "Arguments:\n",
    "    * mat(numpy.ndarray): 윈도우에 표시되는 영상(행렬의 원소를 화소값으로 밝기로써 표시함)\n",
    "'''\n",
    "cv2.imshow(title1, image)\n",
    "cv2.imshow(title2, image)"
   ]
  },
  {
   "cell_type": "code",
   "execution_count": null,
   "metadata": {},
   "outputs": [],
   "source": [
    "cv2.waitKey(0) # 키보드 제어에서 자세히 볼 예정. 여기서는 키 이벤트를 대기함."
   ]
  },
  {
   "cell_type": "code",
   "execution_count": null,
   "metadata": {},
   "outputs": [],
   "source": [
    "'''\n",
    "cv2.destroyAllWindows() -> None\n",
    "인수로 지정된 타이틀 윈도우를 모두 제거하거나\n",
    "HighGUI로 생성된 모든 윈도루를 제거함\n",
    "'''\n",
    "cv2.destroyAllWindows()"
   ]
  },
  {
   "cell_type": "code",
   "execution_count": null,
   "metadata": {},
   "outputs": [],
   "source": [
    "'''\n",
    "cv2.resizeWindow(winname, width, height) -> None\n",
    "윈도우의 크기를 재조정함\n",
    "Arguments:\n",
    "    * width, height: 변경하려는 윈도우의 가로 크기와 세로 크기\n",
    "'''"
   ]
  }
 ],
 "metadata": {
  "kernelspec": {
   "display_name": "Python 3",
   "language": "python",
   "name": "python3"
  },
  "language_info": {
   "codemirror_mode": {
    "name": "ipython",
    "version": 3
   },
   "file_extension": ".py",
   "mimetype": "text/x-python",
   "name": "python",
   "nbconvert_exporter": "python",
   "pygments_lexer": "ipython3",
   "version": "3.7.9"
  }
 },
 "nbformat": 4,
 "nbformat_minor": 4
}
