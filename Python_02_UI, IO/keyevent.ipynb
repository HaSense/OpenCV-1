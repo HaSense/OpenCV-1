{
 "cells": [
  {
   "cell_type": "markdown",
   "metadata": {},
   "source": [
    "## 키보드 이벤트 제어"
   ]
  },
  {
   "cell_type": "code",
   "execution_count": 1,
   "metadata": {},
   "outputs": [],
   "source": [
    "import numpy as np\n",
    "import cv2"
   ]
  },
  {
   "cell_type": "code",
   "execution_count": 2,
   "metadata": {},
   "outputs": [],
   "source": [
    "# switch-case문을 dictionary로 구현\n",
    "switch_case = {\n",
    "    ord('a'): \"a키 입력\",            # ord(문자) -> 10진수 ASCII 코드\n",
    "    ord('b'): \"b키 입력\",\n",
    "    0x41: \"A키 입력\",                # 16진수 ASCII 코드\n",
    "    int('0x42', 16): \"B키 입력\",     # 0x42(16진수) -> 10진수 ASCII 코드\n",
    "    2424832: \"왼쪽 화살표키 입력\",   # 0x250000\n",
    "    2490368: \"위쪽 화살표키 입력\",   # 0x260000\n",
    "    2555904: \"오른쪽 화살표키 입력\", # 0x270000\n",
    "    2621440: \"아래쪽 화살표키 입력\"  # 0x280000\n",
    "}"
   ]
  },
  {
   "cell_type": "code",
   "execution_count": 3,
   "metadata": {},
   "outputs": [],
   "source": [
    "image = np.ones((200, 300), np.float) # 원소가 1인 행렬 생성 (실수형)\n",
    "cv2.namedWindow(\"Keyboard Event\")\n",
    "cv2.imshow(\"Keyboard Event\", image)"
   ]
  },
  {
   "cell_type": "code",
   "execution_count": 4,
   "metadata": {},
   "outputs": [
    {
     "name": "stdout",
     "output_type": "stream",
     "text": [
      "a키 입력\n",
      "b키 입력\n",
      "A키 입력\n",
      "왼쪽 화살표키 입력\n",
      "오른쪽 화살표키 입력\n"
     ]
    }
   ],
   "source": [
    "'''\n",
    "cv2.waitKey([, delay]) -> retval\n",
    "delay(ms) 시간만큼 키 입력을 대기하고 키 이벤트가 발생하면 해당 키 값을 반환\n",
    "\n",
    "cv2.waitKeyEx([, delay]) -> retval\n",
    "cv2.waitKey()와 동일하지만 전체 키 코드를 반환함. \n",
    "화살표 키 등을 입력받을 때 사용 가능(OpenCV 3.4 이상 지원).\n",
    "\n",
    "Arguments:\n",
    "    * delay: 지연 시간, millisecond(= 1/1000 sec) 단위\n",
    "      - delay <= 0: 키 이벤트 발생까지 무한대기\n",
    "      - delay >  0: 지연 시간동안 키 입력 대기,\n",
    "                    지연 시간 안에 키 이벤트가 있으면 해당 키 코드 값 반환,\n",
    "                    지연 시간 안에 키 이벤트가 없으면 -1 반환\n",
    "'''\n",
    "while True:\n",
    "    key = cv2.waitKeyEx(100) # 100ms 동안 키 이벤트 대기\n",
    "    if key == 27: break     # ESC 키를 누르면 무한 반복 종료\n",
    "    \n",
    "    try:\n",
    "        result = switch_case[key]\n",
    "        print(result)\n",
    "    except KeyError:\n",
    "        result = -1\n",
    "\n",
    "cv2.destroyAllWindows()   # 무한루프를 나오면 모든 윈도우 제거"
   ]
  }
 ],
 "metadata": {
  "kernelspec": {
   "display_name": "Python 3",
   "language": "python",
   "name": "python3"
  },
  "language_info": {
   "codemirror_mode": {
    "name": "ipython",
    "version": 3
   },
   "file_extension": ".py",
   "mimetype": "text/x-python",
   "name": "python",
   "nbconvert_exporter": "python",
   "pygments_lexer": "ipython3",
   "version": "3.7.9"
  }
 },
 "nbformat": 4,
 "nbformat_minor": 4
}
