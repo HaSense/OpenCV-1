{
 "cells": [
  {
   "cell_type": "markdown",
   "metadata": {},
   "source": [
    "## 직선과 사각형 그리기"
   ]
  },
  {
   "cell_type": "code",
   "execution_count": 1,
   "metadata": {},
   "outputs": [],
   "source": [
    "import numpy as np\n",
    "import cv2"
   ]
  },
  {
   "cell_type": "code",
   "execution_count": 2,
   "metadata": {},
   "outputs": [],
   "source": [
    "blue, green, red = (255, 0, 0), (0, 255, 0), (0, 0, 255)\n",
    "image = np.zeros((400, 600, 3), np.uint8) # 3-channels Truecolor Image\n",
    "image[:] = (255, 255, 255) # 흰색으로 초기화\n",
    "\n",
    "pt1, pt2 = (50, 50), (250, 150) # 좌표 (정수형 튜플)\n",
    "pt3, pt4 = (400, 150), (500, 50)\n",
    "roi = (50, 200, 200, 100) # 사각형 (Region of Interest)"
   ]
  },
  {
   "cell_type": "code",
   "execution_count": 3,
   "metadata": {},
   "outputs": [
    {
     "data": {
      "text/plain": [
       "array([[[255, 255, 255],\n",
       "        [255, 255, 255],\n",
       "        [255, 255, 255],\n",
       "        ...,\n",
       "        [255, 255, 255],\n",
       "        [255, 255, 255],\n",
       "        [255, 255, 255]],\n",
       "\n",
       "       [[255, 255, 255],\n",
       "        [255, 255, 255],\n",
       "        [255, 255, 255],\n",
       "        ...,\n",
       "        [255, 255, 255],\n",
       "        [255, 255, 255],\n",
       "        [255, 255, 255]],\n",
       "\n",
       "       [[255, 255, 255],\n",
       "        [255, 255, 255],\n",
       "        [255, 255, 255],\n",
       "        ...,\n",
       "        [255, 255, 255],\n",
       "        [255, 255, 255],\n",
       "        [255, 255, 255]],\n",
       "\n",
       "       ...,\n",
       "\n",
       "       [[255, 255, 255],\n",
       "        [255, 255, 255],\n",
       "        [255, 255, 255],\n",
       "        ...,\n",
       "        [255, 255, 255],\n",
       "        [255, 255, 255],\n",
       "        [255, 255, 255]],\n",
       "\n",
       "       [[255, 255, 255],\n",
       "        [255, 255, 255],\n",
       "        [255, 255, 255],\n",
       "        ...,\n",
       "        [255, 255, 255],\n",
       "        [255, 255, 255],\n",
       "        [255, 255, 255]],\n",
       "\n",
       "       [[255, 255, 255],\n",
       "        [255, 255, 255],\n",
       "        [255, 255, 255],\n",
       "        ...,\n",
       "        [255, 255, 255],\n",
       "        [255, 255, 255],\n",
       "        [255, 255, 255]]], dtype=uint8)"
      ]
     },
     "execution_count": 3,
     "metadata": {},
     "output_type": "execute_result"
    }
   ],
   "source": [
    "'''\n",
    "cv2.line(img, pt1, pt2, color[, thickness[, lineType[, shift]]]) -> img\n",
    "pt1과 pt2를 잇는 직선 그리기\n",
    "\n",
    "Arguments:\n",
    "    * img      : 그릴 대상 영상(행렬)\n",
    "    * pt1, pt2 : 시작 좌표와 종료 좌표(정수형 튜플)\n",
    "    * color    : 선의 색상(정수형 튜플)\n",
    "    * thickness: 선 두께, cv2.FILLED일 경우 지정 색으로 채움\n",
    "    * lineType : 선 형태\n",
    "      - cv2.LINE_4 (= 4): 4방향 연결선(connected line)\n",
    "      - cv2.LINE_8 (= 8): 8방향 연결선(connected line)\n",
    "      - cv2.LINE_AA(=16): 계단 현상을 감소시킨 선(Anti-Aliased line)\n",
    "    * shift    : pt1, pt2에 대해 오른쪽 비트 시프트(>>) 연산 결과를 좌표로 지정해 직선을 그림\n",
    "'''\n",
    "cv2.line(image, pt1, pt2, red)\n",
    "cv2.line(image, pt3, pt4, green, 3, cv2.LINE_AA)"
   ]
  },
  {
   "cell_type": "code",
   "execution_count": 4,
   "metadata": {},
   "outputs": [
    {
     "data": {
      "text/plain": [
       "array([[[255, 255, 255],\n",
       "        [255, 255, 255],\n",
       "        [255, 255, 255],\n",
       "        ...,\n",
       "        [255, 255, 255],\n",
       "        [255, 255, 255],\n",
       "        [255, 255, 255]],\n",
       "\n",
       "       [[255, 255, 255],\n",
       "        [255, 255, 255],\n",
       "        [255, 255, 255],\n",
       "        ...,\n",
       "        [255, 255, 255],\n",
       "        [255, 255, 255],\n",
       "        [255, 255, 255]],\n",
       "\n",
       "       [[255, 255, 255],\n",
       "        [255, 255, 255],\n",
       "        [255, 255, 255],\n",
       "        ...,\n",
       "        [255, 255, 255],\n",
       "        [255, 255, 255],\n",
       "        [255, 255, 255]],\n",
       "\n",
       "       ...,\n",
       "\n",
       "       [[255, 255, 255],\n",
       "        [255, 255, 255],\n",
       "        [255, 255, 255],\n",
       "        ...,\n",
       "        [255, 255, 255],\n",
       "        [255, 255, 255],\n",
       "        [255, 255, 255]],\n",
       "\n",
       "       [[255, 255, 255],\n",
       "        [255, 255, 255],\n",
       "        [255, 255, 255],\n",
       "        ...,\n",
       "        [255, 255, 255],\n",
       "        [255, 255, 255],\n",
       "        [255, 255, 255]],\n",
       "\n",
       "       [[255, 255, 255],\n",
       "        [255, 255, 255],\n",
       "        [255, 255, 255],\n",
       "        ...,\n",
       "        [255, 255, 255],\n",
       "        [255, 255, 255],\n",
       "        [255, 255, 255]]], dtype=uint8)"
      ]
     },
     "execution_count": 4,
     "metadata": {},
     "output_type": "execute_result"
    }
   ],
   "source": [
    "'''\n",
    "cv2.rectangle(img, pt1, pt2, color[. thickness[, lineType[, shift]]]) -> img\n",
    "cv2.rectangle(img, rec, color[, thickness[, lineType[, shift]]]) -> img\n",
    "두 좌표, 사각형 영역 2가지 방식으로 사각형 그리기\n",
    "\n",
    "Arguments:\n",
    "    * pt1, pt2: 시작 좌표와 종료 좌표(정수형 튜플)\n",
    "    * rec     : 사각형 영역(x, y, w, h)을 나타내는 4 원소 정수형 튜플\n",
    "'''\n",
    "cv2.rectangle(image, pt1, pt2, blue, 3, cv2.LINE_4)\n",
    "cv2.rectangle(image, roi, red, 3, cv2.LINE_8)\n",
    "cv2.rectangle(image, (400, 200, 100, 100), green, cv2.FILLED)\n",
    "\n",
    "# 주의\n",
    "# OpenCV 4버전 이상부터 rectangle 함수 오류 발생 안함 (OpenCV 4.1.1)\n",
    "# (myenv) $ pip install opencv-contrib-python"
   ]
  },
  {
   "cell_type": "code",
   "execution_count": 5,
   "metadata": {},
   "outputs": [],
   "source": [
    "cv2.imshow(\"Line & Rectangle\", image)\n",
    "cv2.waitKey(0)\n",
    "cv2.destroyAllWindows()"
   ]
  }
 ],
 "metadata": {
  "kernelspec": {
   "display_name": "Python 3",
   "language": "python",
   "name": "python3"
  },
  "language_info": {
   "codemirror_mode": {
    "name": "ipython",
    "version": 3
   },
   "file_extension": ".py",
   "mimetype": "text/x-python",
   "name": "python",
   "nbconvert_exporter": "python",
   "pygments_lexer": "ipython3",
   "version": "3.7.9"
  }
 },
 "nbformat": 4,
 "nbformat_minor": 4
}
