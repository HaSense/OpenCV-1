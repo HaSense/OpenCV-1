{
 "cells": [
  {
   "cell_type": "markdown",
   "metadata": {},
   "source": [
    "## 마우스, 트랙바 이벤트"
   ]
  },
  {
   "cell_type": "code",
   "execution_count": 1,
   "metadata": {},
   "outputs": [],
   "source": [
    "import numpy as np\n",
    "import cv2"
   ]
  },
  {
   "cell_type": "code",
   "execution_count": 2,
   "metadata": {},
   "outputs": [],
   "source": [
    "'''\n",
    "onChange(pos) -> None\n",
    "트랙바 슬라이더의 위치가 변경될 때마다 호출되는 콜백함수\n",
    "cv2.createTrackbar()의 마지막 인수와 이름이 같아야 함\n",
    "\n",
    "Arguments:\n",
    "    * pos: 트랙바 슬라이더 위치\n",
    "'''\n",
    "def onChange(value):   # 트랙바 콜백함수\n",
    "    global image, title     # 전역 변수 참조\n",
    "    \n",
    "    # value와 image 행렬의 한 원소값을 빼(차분) add_value에 저장\n",
    "    add_value = value - int(image[0][0])\n",
    "    print(\"추가 화소값:\", add_value)\n",
    "    \n",
    "    '''\n",
    "    image 행렬에 add_value 값을 더함\n",
    "    numpy.ndarray 행렬에 스칼라 값을 더하면 행렬의 모든 원소에 스칼라 값이 더해짐\n",
    "    -> 트랙바로 변경된 값이 행렬에 더해짐\n",
    "    -> 트랙바 값이 변경될 때마다 영상의 색이 검은색과 흰색 사이에서 변화됨\n",
    "    '''\n",
    "    image = image + add_value\n",
    "    cv2.imshow(title, image)"
   ]
  },
  {
   "cell_type": "code",
   "execution_count": 3,
   "metadata": {},
   "outputs": [],
   "source": [
    "'''\n",
    "cv2.getTrackbarPos(trackbarname, winname) -> retval\n",
    "지정한 트랙바의 슬라디어 위치 반환\n",
    "\n",
    "cv2.setTrackbarPos(trackbarname, winname, pos) -> None\n",
    "지정한 트랙바의 슬라이더 위치 설정\n",
    "'''\n",
    "def onMouse(event, x, y, flags, param):\n",
    "    global image, bar_name\n",
    "    \n",
    "    if event == cv2.EVENT_RBUTTONDOWN:   # 마우스 오른쪽 버튼 클릭 시\n",
    "        if (image[0][0] < 246):     # 화소값이 246 미만일 때까지\n",
    "            image = image + 10      # 모든 원소에 10을 더함\n",
    "        cv2.setTrackbarPos(bar_name, title, image[0][0]) # 트랙바 위치 변경\n",
    "        cv2.imshow(title, image)\n",
    "        \n",
    "    elif event == cv2.EVENT_LBUTTONDOWN: # 마우스 왼쪽 버튼 클릭 시\n",
    "        if (image[0][0] >= 10):     # 화소값이 10 이상이면\n",
    "            image = image - 10      # 모든 원소에 10을 뺌\n",
    "        cv2.setTrackbarPos(bar_name, title, image[0][0]) # 트랙바 위치 변경\n",
    "        cv2.imshow(title, image)"
   ]
  },
  {
   "cell_type": "code",
   "execution_count": null,
   "metadata": {},
   "outputs": [
    {
     "name": "stdout",
     "output_type": "stream",
     "text": [
      "추가 화소값: 0\n",
      "추가 화소값: 0\n",
      "추가 화소값: 0\n",
      "추가 화소값: 0\n",
      "추가 화소값: 0\n",
      "추가 화소값: 0\n",
      "추가 화소값: 0\n",
      "추가 화소값: 0\n",
      "추가 화소값: 0\n",
      "추가 화소값: 0\n"
     ]
    }
   ],
   "source": [
    "image = np.zeros((300, 500), np.uint8) # 빈 영상 생성\n",
    "title = \"Trackbar & Mouse Event\"\n",
    "bar_name = \"Brightness\"\n",
    "cv2.imshow(title, image)\n",
    "\n",
    "'''\n",
    "cv2.createTrackbar(trackbarname, winname, value, count, onChange) -> None\n",
    "트랙바를 생성한 후, 지정한 윈도우에 추가하는 함수\n",
    "\n",
    "Arguments:\n",
    "    * trackbarname: 윈도우에 생성되는 트랙바 이름\n",
    "    * winname     : 트랙바의 부모 윈도우 이름(트랙바 이벤트 발생을 체크하는 윈도우)\n",
    "    * value       : 트랙바 슬라이더 위치를 반영하는 값 (int)\n",
    "    * count       : 트랙바 슬라이더의 최댓값. 최솟값은 항상 0임.\n",
    "    * onChange    : 트랙바 슬라이더 값이 변경될 때 호출되는 콜백 함수\n",
    "'''\n",
    "\n",
    "cv2.createTrackbar(bar_name, title, image[0][0], 255, onChange) # 트랙바, 트랙바 콜백함수 등록\n",
    "cv2.setMouseCallback(title, onMouse)  # 마우스 콜백함수 등록\n",
    "cv2.waitKey(0)\n",
    "cv2.destroyAllWindows()"
   ]
  }
 ],
 "metadata": {
  "kernelspec": {
   "display_name": "Python 3",
   "language": "python",
   "name": "python3"
  },
  "language_info": {
   "codemirror_mode": {
    "name": "ipython",
    "version": 3
   },
   "file_extension": ".py",
   "mimetype": "text/x-python",
   "name": "python",
   "nbconvert_exporter": "python",
   "pygments_lexer": "ipython3",
   "version": "3.7.9"
  }
 },
 "nbformat": 4,
 "nbformat_minor": 4
}
