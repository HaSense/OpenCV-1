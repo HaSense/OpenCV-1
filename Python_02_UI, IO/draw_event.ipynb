{
 "cells": [
  {
   "cell_type": "markdown",
   "metadata": {},
   "source": [
    "## 마우스 이벤트와 그리기"
   ]
  },
  {
   "cell_type": "code",
   "execution_count": 1,
   "metadata": {},
   "outputs": [],
   "source": [
    "import numpy as np\n",
    "import cv2"
   ]
  },
  {
   "cell_type": "code",
   "execution_count": 2,
   "metadata": {},
   "outputs": [],
   "source": [
    "def onMouse(event, x, y, flags, param):\n",
    "    global title, pt    # 전역변수 참조\n",
    "    \n",
    "    if event == cv2.EVENT_LBUTTONDOWN: # 왼쪽 버튼 클릭\n",
    "        if pt[0] < 0:\n",
    "            pt = (x, y)   # 시작 좌표 지정\n",
    "        else:\n",
    "            cv2.rectangle(image, pt, (x, y), (255, 0, 0), 2) # 파란색 사각형\n",
    "            cv2.imshow(title, image)\n",
    "            pt = (-1, -1) # 시작 좌표 초기화\n",
    "    elif event == cv2.EVENT_RBUTTONDOWN: # 오른쪽 버튼 클릭\n",
    "        if pt[0] < 0:\n",
    "            pt = (x, y)   # 시작 좌표 지정\n",
    "        else:\n",
    "            dx, dy = pt[0] - x, pt[1] - y   # 두 좌표 간격\n",
    "            radius = int(np.sqrt(dx*dx + dy*dy)) # 두 좌표 사이의 거리\n",
    "            cv2.circle(image, pt, radius, (0, 0, 255), 2)   # 빨간색 원\n",
    "            cv2.imshow(title, image)\n",
    "            pt = (-1, -1) # 시작 좌표 초기화"
   ]
  },
  {
   "cell_type": "code",
   "execution_count": 3,
   "metadata": {},
   "outputs": [],
   "source": [
    "image = np.full((300, 500, 3), (255, 255, 255), np.uint8) # 흰색 영상"
   ]
  },
  {
   "cell_type": "code",
   "execution_count": 4,
   "metadata": {},
   "outputs": [
    {
     "data": {
      "text/plain": [
       "-1"
      ]
     },
     "execution_count": 4,
     "metadata": {},
     "output_type": "execute_result"
    }
   ],
   "source": [
    "pt = (-1, -1)\n",
    "title = 'Draw event'\n",
    "cv2.imshow(title, image)\n",
    "cv2.setMouseCallback(title, onMouse) # 마우스 콜백 함수 등록\n",
    "cv2.waitKey(0)"
   ]
  }
 ],
 "metadata": {
  "kernelspec": {
   "display_name": "Python 3",
   "language": "python",
   "name": "python3"
  },
  "language_info": {
   "codemirror_mode": {
    "name": "ipython",
    "version": 3
   },
   "file_extension": ".py",
   "mimetype": "text/x-python",
   "name": "python",
   "nbconvert_exporter": "python",
   "pygments_lexer": "ipython3",
   "version": "3.7.9"
  }
 },
 "nbformat": 4,
 "nbformat_minor": 4
}
